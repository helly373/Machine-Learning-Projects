{
 "cells": [
  {
   "cell_type": "markdown",
   "metadata": {},
   "source": [
    "# Task: Covid-19 Data Analysis\n",
    "### This notebook is used to understand the comprehension of Data Analysis techniques using Pandas library."
   ]
  },
  {
   "cell_type": "markdown",
   "metadata": {},
   "source": [
    "### Data Source: \n",
    "https://github.com/CSSEGISandData/COVID-19/tree/master/csse_covid_19_data/csse_covid_19_daily_reports\n",
    "\n",
    "### File naming convention\n",
    "\n",
    "MM-DD-YYYY.csv in UTC.\n",
    "\n",
    "### Field description\n",
    "\n",
    "- Province_State: China - province name; US/Canada/Australia/ - city name, state/province name; Others - name of the event (e.g., \"Diamond Princess\" cruise ship); other countries - blank.\n",
    "\n",
    "- Country_Region: country/region name conforming to WHO (will be updated).\n",
    "\n",
    "- Last_Update: MM/DD/YYYY HH:mm (24 hour format, in UTC).\n",
    "\n",
    "- Confirmed: the number of confirmed cases. For Hubei Province: from Feb 13 (GMT +8), we report both clinically diagnosed and lab-confirmed cases. For lab-confirmed cases only (Before Feb 17), please refer to who_covid_19_situation_reports. For Italy, diagnosis standard might be changed since Feb 27 to \"slow the growth of new case numbers.\" (Source)\n",
    "\n",
    "- Deaths: the number of deaths.\n",
    "\n",
    "- Recovered: the number of recovered cases."
   ]
  },
  {
   "metadata": {
    "ExecuteTime": {
     "end_time": "2025-09-13T16:15:11.457586Z",
     "start_time": "2025-09-13T16:15:11.453588Z"
    }
   },
   "cell_type": "code",
   "source": [
    "import pandas as pd\n",
    "from matplotlib.pyplot import colorbar"
   ],
   "outputs": [],
   "execution_count": 111
  },
  {
   "cell_type": "markdown",
   "metadata": {},
   "source": [
    "### Question 1"
   ]
  },
  {
   "cell_type": "markdown",
   "metadata": {},
   "source": [
    "#### Read the dataset"
   ]
  },
  {
   "cell_type": "code",
   "metadata": {
    "ExecuteTime": {
     "end_time": "2025-09-13T16:15:11.496239Z",
     "start_time": "2025-09-13T16:15:11.483305Z"
    }
   },
   "source": "df = pd.read_csv('07-03-2020.csv')",
   "outputs": [],
   "execution_count": 112
  },
  {
   "cell_type": "markdown",
   "metadata": {},
   "source": [
    "#### Display the top 5 rows in the data"
   ]
  },
  {
   "cell_type": "code",
   "metadata": {
    "ExecuteTime": {
     "end_time": "2025-09-13T16:15:11.516731Z",
     "start_time": "2025-09-13T16:15:11.502181Z"
    }
   },
   "source": "df.head()",
   "outputs": [
    {
     "data": {
      "text/plain": [
       "      FIPS     Admin2  Province_State Country_Region          Last_Update  \\\n",
       "0  45001.0  Abbeville  South Carolina             US  2020-07-04 04:33:51   \n",
       "1  22001.0     Acadia       Louisiana             US  2020-07-04 04:33:51   \n",
       "2  51001.0   Accomack        Virginia             US  2020-07-04 04:33:51   \n",
       "3  16001.0        Ada           Idaho             US  2020-07-04 04:33:51   \n",
       "4  19001.0      Adair            Iowa             US  2020-07-04 04:33:51   \n",
       "\n",
       "         Lat       Long_  Confirmed  Deaths  Recovered  Active  \\\n",
       "0  34.223334  -82.461707        118       0          0     118   \n",
       "1  30.295065  -92.414197        968      39          0     929   \n",
       "2  37.767072  -75.632346       1042      14          0    1028   \n",
       "3  43.452658 -116.241552       2507      23          0    2484   \n",
       "4  41.330756  -94.471059         15       0          0      15   \n",
       "\n",
       "                    Combined_Key  Incidence_Rate  Case-Fatality_Ratio  \n",
       "0  Abbeville, South Carolina, US      481.102459             0.000000  \n",
       "1          Acadia, Louisiana, US     1560.157950             4.028926  \n",
       "2         Accomack, Virginia, US     3224.408962             1.343570  \n",
       "3                 Ada, Idaho, US      520.570530             0.917431  \n",
       "4                Adair, Iowa, US      209.731544             0.000000  "
      ],
      "text/html": [
       "<div>\n",
       "<style scoped>\n",
       "    .dataframe tbody tr th:only-of-type {\n",
       "        vertical-align: middle;\n",
       "    }\n",
       "\n",
       "    .dataframe tbody tr th {\n",
       "        vertical-align: top;\n",
       "    }\n",
       "\n",
       "    .dataframe thead th {\n",
       "        text-align: right;\n",
       "    }\n",
       "</style>\n",
       "<table border=\"1\" class=\"dataframe\">\n",
       "  <thead>\n",
       "    <tr style=\"text-align: right;\">\n",
       "      <th></th>\n",
       "      <th>FIPS</th>\n",
       "      <th>Admin2</th>\n",
       "      <th>Province_State</th>\n",
       "      <th>Country_Region</th>\n",
       "      <th>Last_Update</th>\n",
       "      <th>Lat</th>\n",
       "      <th>Long_</th>\n",
       "      <th>Confirmed</th>\n",
       "      <th>Deaths</th>\n",
       "      <th>Recovered</th>\n",
       "      <th>Active</th>\n",
       "      <th>Combined_Key</th>\n",
       "      <th>Incidence_Rate</th>\n",
       "      <th>Case-Fatality_Ratio</th>\n",
       "    </tr>\n",
       "  </thead>\n",
       "  <tbody>\n",
       "    <tr>\n",
       "      <th>0</th>\n",
       "      <td>45001.0</td>\n",
       "      <td>Abbeville</td>\n",
       "      <td>South Carolina</td>\n",
       "      <td>US</td>\n",
       "      <td>2020-07-04 04:33:51</td>\n",
       "      <td>34.223334</td>\n",
       "      <td>-82.461707</td>\n",
       "      <td>118</td>\n",
       "      <td>0</td>\n",
       "      <td>0</td>\n",
       "      <td>118</td>\n",
       "      <td>Abbeville, South Carolina, US</td>\n",
       "      <td>481.102459</td>\n",
       "      <td>0.000000</td>\n",
       "    </tr>\n",
       "    <tr>\n",
       "      <th>1</th>\n",
       "      <td>22001.0</td>\n",
       "      <td>Acadia</td>\n",
       "      <td>Louisiana</td>\n",
       "      <td>US</td>\n",
       "      <td>2020-07-04 04:33:51</td>\n",
       "      <td>30.295065</td>\n",
       "      <td>-92.414197</td>\n",
       "      <td>968</td>\n",
       "      <td>39</td>\n",
       "      <td>0</td>\n",
       "      <td>929</td>\n",
       "      <td>Acadia, Louisiana, US</td>\n",
       "      <td>1560.157950</td>\n",
       "      <td>4.028926</td>\n",
       "    </tr>\n",
       "    <tr>\n",
       "      <th>2</th>\n",
       "      <td>51001.0</td>\n",
       "      <td>Accomack</td>\n",
       "      <td>Virginia</td>\n",
       "      <td>US</td>\n",
       "      <td>2020-07-04 04:33:51</td>\n",
       "      <td>37.767072</td>\n",
       "      <td>-75.632346</td>\n",
       "      <td>1042</td>\n",
       "      <td>14</td>\n",
       "      <td>0</td>\n",
       "      <td>1028</td>\n",
       "      <td>Accomack, Virginia, US</td>\n",
       "      <td>3224.408962</td>\n",
       "      <td>1.343570</td>\n",
       "    </tr>\n",
       "    <tr>\n",
       "      <th>3</th>\n",
       "      <td>16001.0</td>\n",
       "      <td>Ada</td>\n",
       "      <td>Idaho</td>\n",
       "      <td>US</td>\n",
       "      <td>2020-07-04 04:33:51</td>\n",
       "      <td>43.452658</td>\n",
       "      <td>-116.241552</td>\n",
       "      <td>2507</td>\n",
       "      <td>23</td>\n",
       "      <td>0</td>\n",
       "      <td>2484</td>\n",
       "      <td>Ada, Idaho, US</td>\n",
       "      <td>520.570530</td>\n",
       "      <td>0.917431</td>\n",
       "    </tr>\n",
       "    <tr>\n",
       "      <th>4</th>\n",
       "      <td>19001.0</td>\n",
       "      <td>Adair</td>\n",
       "      <td>Iowa</td>\n",
       "      <td>US</td>\n",
       "      <td>2020-07-04 04:33:51</td>\n",
       "      <td>41.330756</td>\n",
       "      <td>-94.471059</td>\n",
       "      <td>15</td>\n",
       "      <td>0</td>\n",
       "      <td>0</td>\n",
       "      <td>15</td>\n",
       "      <td>Adair, Iowa, US</td>\n",
       "      <td>209.731544</td>\n",
       "      <td>0.000000</td>\n",
       "    </tr>\n",
       "  </tbody>\n",
       "</table>\n",
       "</div>"
      ]
     },
     "execution_count": 113,
     "metadata": {},
     "output_type": "execute_result"
    }
   ],
   "execution_count": 113
  },
  {
   "cell_type": "markdown",
   "metadata": {},
   "source": [
    "#### Show the information of the dataset"
   ]
  },
  {
   "cell_type": "code",
   "metadata": {
    "ExecuteTime": {
     "end_time": "2025-09-13T16:15:11.567142Z",
     "start_time": "2025-09-13T16:15:11.558149Z"
    }
   },
   "source": "df.info",
   "outputs": [
    {
     "data": {
      "text/plain": [
       "<bound method DataFrame.info of          FIPS     Admin2    Province_State  Country_Region  \\\n",
       "0     45001.0  Abbeville    South Carolina              US   \n",
       "1     22001.0     Acadia         Louisiana              US   \n",
       "2     51001.0   Accomack          Virginia              US   \n",
       "3     16001.0        Ada             Idaho              US   \n",
       "4     19001.0      Adair              Iowa              US   \n",
       "...       ...        ...               ...             ...   \n",
       "3829      NaN        NaN           Unknown         Ukraine   \n",
       "3830      NaN        NaN               NaN           Nauru   \n",
       "3831      NaN        NaN              Niue     New Zealand   \n",
       "3832      NaN        NaN               NaN          Tuvalu   \n",
       "3833      NaN        NaN  Pitcairn Islands  United Kingdom   \n",
       "\n",
       "              Last_Update        Lat       Long_  Confirmed  Deaths  \\\n",
       "0     2020-07-04 04:33:51  34.223334  -82.461707        118       0   \n",
       "1     2020-07-04 04:33:51  30.295065  -92.414197        968      39   \n",
       "2     2020-07-04 04:33:51  37.767072  -75.632346       1042      14   \n",
       "3     2020-07-04 04:33:51  43.452658 -116.241552       2507      23   \n",
       "4     2020-07-04 04:33:51  41.330756  -94.471059         15       0   \n",
       "...                   ...        ...         ...        ...     ...   \n",
       "3829  2020-07-04 04:33:51        NaN         NaN          0       0   \n",
       "3830  2020-07-04 04:33:51  -0.522800  166.931500          0       0   \n",
       "3831  2020-07-04 04:33:51 -19.054400 -169.867200          0       0   \n",
       "3832  2020-07-04 04:33:51  -7.109500  177.649300          0       0   \n",
       "3833  2020-07-04 04:33:51 -24.376800 -128.324200          0       0   \n",
       "\n",
       "      Recovered  Active                      Combined_Key  Incidence_Rate  \\\n",
       "0             0     118     Abbeville, South Carolina, US      481.102459   \n",
       "1             0     929             Acadia, Louisiana, US     1560.157950   \n",
       "2             0    1028            Accomack, Virginia, US     3224.408962   \n",
       "3             0    2484                    Ada, Idaho, US      520.570530   \n",
       "4             0      15                   Adair, Iowa, US      209.731544   \n",
       "...         ...     ...                               ...             ...   \n",
       "3829          0       0                  Unknown, Ukraine        0.000000   \n",
       "3830          0       0                             Nauru        0.000000   \n",
       "3831          0       0                 Niue, New Zealand        0.000000   \n",
       "3832          0       0                            Tuvalu        0.000000   \n",
       "3833          0       0  Pitcairn Islands, United Kingdom        0.000000   \n",
       "\n",
       "      Case-Fatality_Ratio  \n",
       "0                0.000000  \n",
       "1                4.028926  \n",
       "2                1.343570  \n",
       "3                0.917431  \n",
       "4                0.000000  \n",
       "...                   ...  \n",
       "3829             0.000000  \n",
       "3830             0.000000  \n",
       "3831             0.000000  \n",
       "3832             0.000000  \n",
       "3833             0.000000  \n",
       "\n",
       "[3834 rows x 14 columns]>"
      ]
     },
     "execution_count": 114,
     "metadata": {},
     "output_type": "execute_result"
    }
   ],
   "execution_count": 114
  },
  {
   "cell_type": "markdown",
   "metadata": {},
   "source": [
    "#### Show the sum of missing values of features in the dataset"
   ]
  },
  {
   "cell_type": "code",
   "metadata": {
    "ExecuteTime": {
     "end_time": "2025-09-13T16:15:11.637432Z",
     "start_time": "2025-09-13T16:15:11.631197Z"
    }
   },
   "source": "df.isnull().sum()",
   "outputs": [
    {
     "data": {
      "text/plain": [
       "FIPS                   716\n",
       "Admin2                 712\n",
       "Province_State         177\n",
       "Country_Region           0\n",
       "Last_Update              0\n",
       "Lat                     78\n",
       "Long_                   78\n",
       "Confirmed                0\n",
       "Deaths                   0\n",
       "Recovered                0\n",
       "Active                   0\n",
       "Combined_Key             0\n",
       "Incidence_Rate          78\n",
       "Case-Fatality_Ratio     71\n",
       "dtype: int64"
      ]
     },
     "execution_count": 115,
     "metadata": {},
     "output_type": "execute_result"
    }
   ],
   "execution_count": 115
  },
  {
   "cell_type": "markdown",
   "metadata": {},
   "source": [
    "### Question 2"
   ]
  },
  {
   "cell_type": "markdown",
   "metadata": {},
   "source": [
    "#### Show the number of Confirmed cases by Country"
   ]
  },
  {
   "cell_type": "code",
   "metadata": {
    "ExecuteTime": {
     "end_time": "2025-09-13T16:15:11.704380Z",
     "start_time": "2025-09-13T16:15:11.698667Z"
    }
   },
   "source": [
    "confirmed_Cases = df.groupby('Country_Region')['Confirmed'].sum()\n",
    "print(confirmed_Cases)"
   ],
   "outputs": [
    {
     "name": "stdout",
     "output_type": "stream",
     "text": [
      "Country_Region\n",
      "Afghanistan             32410\n",
      "Albania                  2752\n",
      "Algeria                 15070\n",
      "Andorra                   855\n",
      "Angola                    328\n",
      "                        ...  \n",
      "West Bank and Gaza       3334\n",
      "Winter Olympics 2022        0\n",
      "Yemen                    1240\n",
      "Zambia                   1632\n",
      "Zimbabwe                  625\n",
      "Name: Confirmed, Length: 197, dtype: int64\n"
     ]
    }
   ],
   "execution_count": 116
  },
  {
   "cell_type": "markdown",
   "metadata": {},
   "source": [
    "#### Show the number of Deaths by Country"
   ]
  },
  {
   "cell_type": "code",
   "metadata": {
    "ExecuteTime": {
     "end_time": "2025-09-13T16:15:11.767370Z",
     "start_time": "2025-09-13T16:15:11.761902Z"
    }
   },
   "source": [
    "deaths = df.groupby('Country_Region')['Deaths'].sum()\n",
    "print(deaths)"
   ],
   "outputs": [
    {
     "name": "stdout",
     "output_type": "stream",
     "text": [
      "Country_Region\n",
      "Afghanistan             823\n",
      "Albania                  72\n",
      "Algeria                 937\n",
      "Andorra                  52\n",
      "Angola                   18\n",
      "                       ... \n",
      "West Bank and Gaza       11\n",
      "Winter Olympics 2022      0\n",
      "Yemen                   335\n",
      "Zambia                   30\n",
      "Zimbabwe                  7\n",
      "Name: Deaths, Length: 197, dtype: int64\n"
     ]
    }
   ],
   "execution_count": 117
  },
  {
   "cell_type": "markdown",
   "metadata": {},
   "source": [
    "#### Show the number of Recovered cases by Country"
   ]
  },
  {
   "cell_type": "code",
   "metadata": {
    "ExecuteTime": {
     "end_time": "2025-09-13T16:15:11.910779Z",
     "start_time": "2025-09-13T16:15:11.905901Z"
    }
   },
   "source": [
    "Recovered_cases = df.groupby('Country_Region')['Recovered'].sum()\n",
    "print(Recovered_cases)"
   ],
   "outputs": [
    {
     "name": "stdout",
     "output_type": "stream",
     "text": [
      "Country_Region\n",
      "Afghanistan             17331\n",
      "Albania                  1592\n",
      "Algeria                 10832\n",
      "Andorra                   800\n",
      "Angola                    107\n",
      "                        ...  \n",
      "West Bank and Gaza        463\n",
      "Winter Olympics 2022        0\n",
      "Yemen                     536\n",
      "Zambia                   1348\n",
      "Zimbabwe                  176\n",
      "Name: Recovered, Length: 197, dtype: int64\n"
     ]
    }
   ],
   "execution_count": 118
  },
  {
   "cell_type": "markdown",
   "metadata": {},
   "source": [
    "#### Show the number of Active Cases by Country"
   ]
  },
  {
   "cell_type": "code",
   "metadata": {
    "ExecuteTime": {
     "end_time": "2025-09-13T16:15:11.984200Z",
     "start_time": "2025-09-13T16:15:11.975878Z"
    }
   },
   "source": [
    "active_Cases = df.groupby('Country_Region')['Active'].sum()\n",
    "print(active_Cases)"
   ],
   "outputs": [
    {
     "name": "stdout",
     "output_type": "stream",
     "text": [
      "Country_Region\n",
      "Afghanistan             14256\n",
      "Albania                  1088\n",
      "Algeria                  3301\n",
      "Andorra                     3\n",
      "Angola                    203\n",
      "                        ...  \n",
      "West Bank and Gaza       2860\n",
      "Winter Olympics 2022        0\n",
      "Yemen                     369\n",
      "Zambia                    254\n",
      "Zimbabwe                  442\n",
      "Name: Active, Length: 197, dtype: int64\n"
     ]
    }
   ],
   "execution_count": 119
  },
  {
   "cell_type": "markdown",
   "metadata": {},
   "source": [
    "#### Show the latest number of Confirmed, Deaths, Recovered and Active cases Country-wise"
   ]
  },
  {
   "cell_type": "code",
   "metadata": {
    "ExecuteTime": {
     "end_time": "2025-09-13T16:15:12.105114Z",
     "start_time": "2025-09-13T16:15:12.087679Z"
    }
   },
   "source": [
    "df['Last_Update'] = pd.to_datetime(df['Last_Update'])\n",
    "\n",
    "latest_by_country = df.groupby('Country_Region')['Last_Update'].max().reset_index()\n",
    "\n",
    "latest_update = df.merge(latest_by_country, on=['Country_Region', 'Last_Update'], how='inner')\n",
    "\n",
    "country_latest = latest_update.groupby('Country_Region')[['Confirmed', 'Deaths', 'Recovered', 'Active']].sum()\n",
    "\n",
    "print(country_latest)"
   ],
   "outputs": [
    {
     "name": "stdout",
     "output_type": "stream",
     "text": [
      "                      Confirmed  Deaths  Recovered  Active\n",
      "Country_Region                                            \n",
      "Afghanistan               32410     823      17331   14256\n",
      "Albania                    2752      72       1592    1088\n",
      "Algeria                   15070     937      10832    3301\n",
      "Andorra                     855      52        800       3\n",
      "Angola                      328      18        107     203\n",
      "...                         ...     ...        ...     ...\n",
      "West Bank and Gaza         3334      11        463    2860\n",
      "Winter Olympics 2022          0       0          0       0\n",
      "Yemen                      1240     335        536     369\n",
      "Zambia                     1632      30       1348     254\n",
      "Zimbabwe                    625       7        176     442\n",
      "\n",
      "[197 rows x 4 columns]\n"
     ]
    }
   ],
   "execution_count": 120
  },
  {
   "cell_type": "markdown",
   "metadata": {},
   "source": [
    "### Question 3"
   ]
  },
  {
   "cell_type": "markdown",
   "metadata": {},
   "source": [
    "### Show the countries with no recovered cases"
   ]
  },
  {
   "cell_type": "code",
   "metadata": {
    "ExecuteTime": {
     "end_time": "2025-09-13T16:15:12.164697Z",
     "start_time": "2025-09-13T16:15:12.157711Z"
    }
   },
   "source": [
    "country_totals = df.groupby('Country_Region')['Recovered'].sum()\n",
    "# print(country_totals)\n",
    "no_recovered = country_totals[country_totals == 0]\n",
    "print(no_recovered)\n"
   ],
   "outputs": [
    {
     "name": "stdout",
     "output_type": "stream",
     "text": [
      "Country_Region\n",
      "Antarctica              0\n",
      "Kiribati                0\n",
      "Korea, North            0\n",
      "MS Zaandam              0\n",
      "Nauru                   0\n",
      "Palau                   0\n",
      "Samoa                   0\n",
      "Summer Olympics 2020    0\n",
      "Sweden                  0\n",
      "Tonga                   0\n",
      "Tuvalu                  0\n",
      "Winter Olympics 2022    0\n",
      "Name: Recovered, dtype: int64\n"
     ]
    }
   ],
   "execution_count": 121
  },
  {
   "cell_type": "markdown",
   "metadata": {},
   "source": [
    "#### Show the countries with no confirmed cases"
   ]
  },
  {
   "cell_type": "code",
   "metadata": {
    "ExecuteTime": {
     "end_time": "2025-09-13T16:15:12.280755Z",
     "start_time": "2025-09-13T16:15:12.272307Z"
    }
   },
   "source": [
    "total_confirmed_cases = df.groupby('Country_Region')['Confirmed'].sum()\n",
    "no_confirmed = total_confirmed_cases[total_confirmed_cases == 0]\n",
    "print(no_confirmed)"
   ],
   "outputs": [
    {
     "name": "stdout",
     "output_type": "stream",
     "text": [
      "Country_Region\n",
      "Antarctica              0\n",
      "Kiribati                0\n",
      "Korea, North            0\n",
      "Nauru                   0\n",
      "Palau                   0\n",
      "Samoa                   0\n",
      "Summer Olympics 2020    0\n",
      "Tonga                   0\n",
      "Tuvalu                  0\n",
      "Winter Olympics 2022    0\n",
      "Name: Confirmed, dtype: int64\n"
     ]
    }
   ],
   "execution_count": 122
  },
  {
   "cell_type": "markdown",
   "metadata": {},
   "source": [
    "#### Show the countries with no deaths"
   ]
  },
  {
   "cell_type": "code",
   "metadata": {
    "ExecuteTime": {
     "end_time": "2025-09-13T16:15:12.341624Z",
     "start_time": "2025-09-13T16:15:12.327837Z"
    }
   },
   "source": [
    "country_totals = df.groupby('Country_Region')['Deaths'].sum()\n",
    "no_deaths = country_totals[country_totals == 0]\n",
    "print(no_deaths)"
   ],
   "outputs": [
    {
     "name": "stdout",
     "output_type": "stream",
     "text": [
      "Country_Region\n",
      "Antarctica                          0\n",
      "Bhutan                              0\n",
      "Cambodia                            0\n",
      "Dominica                            0\n",
      "Eritrea                             0\n",
      "Fiji                                0\n",
      "Grenada                             0\n",
      "Holy See                            0\n",
      "Kiribati                            0\n",
      "Korea, North                        0\n",
      "Laos                                0\n",
      "Lesotho                             0\n",
      "Mongolia                            0\n",
      "Namibia                             0\n",
      "Nauru                               0\n",
      "Palau                               0\n",
      "Papua New Guinea                    0\n",
      "Saint Kitts and Nevis               0\n",
      "Saint Lucia                         0\n",
      "Saint Vincent and the Grenadines    0\n",
      "Samoa                               0\n",
      "Seychelles                          0\n",
      "Summer Olympics 2020                0\n",
      "Timor-Leste                         0\n",
      "Tonga                               0\n",
      "Tuvalu                              0\n",
      "Uganda                              0\n",
      "Vietnam                             0\n",
      "Winter Olympics 2022                0\n",
      "Name: Deaths, dtype: int64\n"
     ]
    }
   ],
   "execution_count": 123
  },
  {
   "cell_type": "code",
   "metadata": {
    "ExecuteTime": {
     "end_time": "2025-09-13T16:15:12.416615Z",
     "start_time": "2025-09-13T16:15:12.413173Z"
    }
   },
   "source": [],
   "outputs": [],
   "execution_count": null
  },
  {
   "cell_type": "markdown",
   "metadata": {},
   "source": [
    "### Question 4"
   ]
  },
  {
   "cell_type": "markdown",
   "metadata": {},
   "source": [
    "#### Show the Top 10 countries with Confirmed cases"
   ]
  },
  {
   "cell_type": "code",
   "metadata": {
    "ExecuteTime": {
     "end_time": "2025-09-13T16:15:12.435073Z",
     "start_time": "2025-09-13T16:15:12.430471Z"
    }
   },
   "source": [
    "top_10_confirmed = total_confirmed_cases.nlargest(10)\n",
    "print(top_10_confirmed)"
   ],
   "outputs": [
    {
     "name": "stdout",
     "output_type": "stream",
     "text": [
      "Country_Region\n",
      "US                2810649\n",
      "Brazil            1546935\n",
      "Russia             666941\n",
      "India              648315\n",
      "Peru               295599\n",
      "Chile              288089\n",
      "United Kingdom     285784\n",
      "Spain              250545\n",
      "Mexico             245251\n",
      "Italy              241184\n",
      "Name: Confirmed, dtype: int64\n"
     ]
    }
   ],
   "execution_count": 124
  },
  {
   "cell_type": "markdown",
   "metadata": {},
   "source": [
    "#### Show the Top 10 Countries with Active cases"
   ]
  },
  {
   "cell_type": "code",
   "metadata": {
    "ExecuteTime": {
     "end_time": "2025-09-13T16:15:12.465925Z",
     "start_time": "2025-09-13T16:15:12.460132Z"
    }
   },
   "source": [
    "top_10_actives = df.groupby('Country_Region')['Active'].sum()\n",
    "top_10_actives = top_10_actives.nlargest(10)\n",
    "print(top_10_actives)"
   ],
   "outputs": [
    {
     "name": "stdout",
     "output_type": "stream",
     "text": [
      "Country_Region\n",
      "US                2678707\n",
      "Brazil             491522\n",
      "Peru               256066\n",
      "United Kingdom     240196\n",
      "India              235433\n",
      "Russia             219942\n",
      "Pakistan           103722\n",
      "France              99231\n",
      "South Africa        87874\n",
      "Bangladesh          86375\n",
      "Name: Active, dtype: int64\n"
     ]
    }
   ],
   "execution_count": 125
  },
  {
   "cell_type": "markdown",
   "metadata": {},
   "source": [
    "### Question 5"
   ]
  },
  {
   "cell_type": "markdown",
   "metadata": {},
   "source": [
    "#### Plot Country-wise Total deaths, confirmed, recovered and active casaes where total deaths have exceeded 50,000"
   ]
  },
  {
   "cell_type": "code",
   "metadata": {
    "ExecuteTime": {
     "end_time": "2025-09-13T16:15:12.490607Z",
     "start_time": "2025-09-13T16:15:12.486227Z"
    }
   },
   "source": [
    "import matplotlib.pyplot as plt\n",
    "import seaborn as sns"
   ],
   "outputs": [],
   "execution_count": 126
  },
  {
   "cell_type": "code",
   "metadata": {
    "ExecuteTime": {
     "end_time": "2025-09-13T16:15:12.626711Z",
     "start_time": "2025-09-13T16:15:12.530927Z"
    }
   },
   "source": [
    "statistics_plot = df.groupby('Country_Region')[['Confirmed', 'Recovered', 'Active', 'Deaths']].sum()\n",
    "statistics_plot = statistics_plot[statistics_plot['Deaths'] > 50000]\n",
    "statistics_plot.plot(kind='bar', figsize = (10,7))\n",
    "plt.title(\"COVID-19 Statistics\")\n",
    "plt.xlabel(\"Countries\")\n",
    "plt.ylabel(\"Cases\")\n",
    "plt.ylim(0, 3000000)\n",
    "plt.legend(title=\"Metrics\")\n",
    "plt.show()"
   ],
   "outputs": [
    {
     "data": {
      "text/plain": [
       "<Figure size 1000x700 with 1 Axes>"
      ],
      "image/png": "[encoded data removed]"
     },
     "metadata": {},
     "output_type": "display_data"
    }
   ],
   "execution_count": 127
  },
  {
   "cell_type": "markdown",
   "metadata": {},
   "source": [
    "### Question 6"
   ]
  },
  {
   "cell_type": "markdown",
   "metadata": {},
   "source": [
    "### Plot Province/State wise Deaths in USA"
   ]
  },
  {
   "cell_type": "code",
   "metadata": {
    "ExecuteTime": {
     "end_time": "2025-09-13T16:26:12.640531Z",
     "start_time": "2025-09-13T16:26:12.637401Z"
    }
   },
   "source": [
    "import plotly.express as px"
   ],
   "outputs": [],
   "execution_count": 150
  },
  {
   "cell_type": "code",
   "metadata": {
    "ExecuteTime": {
     "end_time": "2025-09-13T16:26:13.691244Z",
     "start_time": "2025-09-13T16:26:13.671479Z"
    }
   },
   "source": "covid_data= pd.read_csv('07-03-2020.csv')",
   "outputs": [],
   "execution_count": 151
  },
  {
   "cell_type": "code",
   "metadata": {
    "ExecuteTime": {
     "end_time": "2025-09-13T16:26:14.671865Z",
     "start_time": "2025-09-13T16:26:14.666341Z"
    }
   },
   "source": [
    "covid_data.columns"
   ],
   "outputs": [
    {
     "data": {
      "text/plain": [
       "Index(['FIPS', 'Admin2', 'Province_State', 'Country_Region', 'Last_Update',\n",
       "       'Lat', 'Long_', 'Confirmed', 'Deaths', 'Recovered', 'Active',\n",
       "       'Combined_Key', 'Incidence_Rate', 'Case-Fatality_Ratio'],\n",
       "      dtype='object')"
      ]
     },
     "execution_count": 152,
     "metadata": {},
     "output_type": "execute_result"
    }
   ],
   "execution_count": 152
  },
  {
   "cell_type": "code",
   "metadata": {
    "ExecuteTime": {
     "end_time": "2025-09-13T16:26:17.392526Z",
     "start_time": "2025-09-13T16:26:16.859109Z"
    }
   },
   "source": [
    "usa_data = covid_data[covid_data['Country_Region']=='US']\n",
    "deaths_by_province = usa_data.groupby('Province_State')['Deaths'].sum()\n",
    "# print(deaths_by_province)\n",
    "deaths_by_province.plot(kind='bar', figsize = (15,7), color = 'darkred')\n",
    "plt.title(\"Deaths by Province/State in USA\")\n",
    "plt.xlabel(\"Province/State\")\n",
    "plt.ylabel(\"Deaths\")\n",
    "plt.show()\n"
   ],
   "outputs": [
    {
     "data": {
      "text/plain": [
       "<Figure size 1500x700 with 1 Axes>"
      ],
      "image/png": "[encoded data removed]"
     },
     "metadata": {},
     "output_type": "display_data"
    }
   ],
   "execution_count": 153
  },
  {
   "cell_type": "markdown",
   "metadata": {},
   "source": [
    "### Question 7"
   ]
  },
  {
   "cell_type": "markdown",
   "metadata": {},
   "source": [
    "### Plot Province/State Wise Active Cases in USA"
   ]
  },
  {
   "cell_type": "code",
   "metadata": {
    "ExecuteTime": {
     "end_time": "2025-09-13T16:15:13.127995Z",
     "start_time": "2025-09-13T16:15:12.935944Z"
    }
   },
   "source": [
    "actives_by_province = usa_data.groupby('Province_State')['Active'].sum()\n",
    "actives_by_province.plot(kind='bar', figsize=(15, 7), color = 'darkgreen')\n",
    "plt.title(\"Active Cases by Province/State in USA\")\n",
    "plt.xlabel(\"Province/State\")\n",
    "plt.ylabel(\"Cases\")\n",
    "plt.show()\n"
   ],
   "outputs": [
    {
     "data": {
      "text/plain": [
       "<Figure size 1500x700 with 1 Axes>"
      ],
      "image/png": "[encoded data removed]"
     },
     "metadata": {},
     "output_type": "display_data"
    }
   ],
   "execution_count": 132
  },
  {
   "cell_type": "markdown",
   "metadata": {},
   "source": "_### Question 8"
  },
  {
   "cell_type": "markdown",
   "metadata": {},
   "source": [
    "### Plot Province/State Wise Confirmed cases in USA"
   ]
  },
  {
   "cell_type": "code",
   "metadata": {
    "ExecuteTime": {
     "end_time": "2025-09-13T16:19:33.448159Z",
     "start_time": "2025-09-13T16:19:32.543630Z"
    }
   },
   "source": [
    "state_cases = usa_data.groupby('Province_State')[['Confirmed', 'Recovered', 'Active', 'Deaths']].sum().reset_index()\n",
    "state_cases = state_cases.melt(id_vars='Province_State', value_vars=['Confirmed', 'Recovered', 'Active', 'Deaths'], var_name='Case', value_name='Count')\n",
    "\n",
    "plt.figure(figsize = (20,8))\n",
    "sns.barplot(data=state_cases, x='Province_State', y='Count', hue='Case')\n",
    "plt.title(\"Province/State Wise COVID-19 Cases in USA\")\n",
    "plt.ylabel(\"Count\")\n",
    "plt.xlabel(\"State\")\n",
    "plt.xticks(rotation=90)\n",
    "plt.legend(title=\"Case Type\")\n",
    "plt.show()\n"
   ],
   "outputs": [
    {
     "data": {
      "text/plain": [
       "<Figure size 2000x800 with 1 Axes>"
      ],
      "image/png": "[encoded data removed]"
     },
     "metadata": {},
     "output_type": "display_data"
    }
   ],
   "execution_count": 139
  },
  {
   "cell_type": "markdown",
   "metadata": {},
   "source": [
    "### Question 9"
   ]
  },
  {
   "cell_type": "markdown",
   "metadata": {},
   "source": [
    "### Plot Worldwide Confirmed Cases over time"
   ]
  },
  {
   "cell_type": "code",
   "metadata": {
    "ExecuteTime": {
     "end_time": "2025-09-13T16:26:23.675812Z",
     "start_time": "2025-09-13T16:26:23.672153Z"
    }
   },
   "source": [
    "import plotly.express as px\n",
    "import plotly.io as pio"
   ],
   "outputs": [],
   "execution_count": 154
  },
  {
   "cell_type": "code",
   "metadata": {
    "ExecuteTime": {
     "end_time": "2025-09-13T16:32:59.263569Z",
     "start_time": "2025-09-13T16:32:59.070728Z"
    }
   },
   "source": [
    "# covid_data.columns\n",
    "\n",
    "covid_data['Last_Update'] = pd.to_datetime(covid_data['Last_Update'])\n",
    "confirmed_Cases = covid_data.groupby('Last_Update')['Confirmed'].sum().reset_index()\n",
    "# print(confirmed_Cases)\n",
    "\n",
    "plot = px.line(confirmed_Cases, x='Last_Update', y='Confirmed', title='WorldWide COVID-19 Confirmed Cases', labels={'Confirmed': 'Confirmed Cases', 'Last_Update': 'Date'})\n",
    "\n",
    "plot.show()\n"
   ],
   "outputs": [
    {
     "data": {
      "application/vnd.plotly.v1+json": {
       "data": [
        {
         "hovertemplate": "Date=%{x}<br>Confirmed Cases=%{y}<extra></extra>",
         "legendgroup": "",
         "line": {
          "color": "#636efa",
          "dash": "solid"
         },
         "marker": {
          "symbol": "circle"
         },
         "mode": "lines",
         "name": "",
         "orientation": "v",
         "showlegend": false,
         "x": [
          "2020-07-03T15:33:50.000000000",
          "2020-07-03T23:35:48.000000000",
          "2020-07-04T00:33:51.000000000",
          "2020-07-04T04:33:51.000000000",
          "2021-04-02T15:13:53.000000000"
         ],
         "xaxis": "x",
         "y": {
          "dtype": "i4",
          "bdata": "AAAAAPwBAAAoAAAA0WipABgAAAA="
         },
         "yaxis": "y",
         "type": "scatter"
        }
       ],
       "layout": {
        "template": {
         "data": {
          "histogram2dcontour": [
           {
            "type": "histogram2dcontour",
            "colorbar": {
             "outlinewidth": 0,
             "ticks": ""
            },
            "colorscale": [
             [
              0.0,
              "#0d0887"
             ],
             [
              0.1111111111111111,
              "#46039f"
             ],
             [
              0.2222222222222222,
              "#7201a8"
             ],
             [
              0.3333333333333333,
              "#9c179e"
             ],
             [
              0.4444444444444444,
              "#bd3786"
             ],
             [
              0.5555555555555556,
              "#d8576b"
             ],
             [
              0.6666666666666666,
              "#ed7953"
             ],
             [
              0.7777777777777778,
              "#fb9f3a"
             ],
             [
              0.8888888888888888,
              "#fdca26"
             ],
             [
              1.0,
              "#f0f921"
             ]
            ]
           }
          ],
          "choropleth": [
           {
            "type": "choropleth",
            "colorbar": {
             "outlinewidth": 0,
             "ticks": ""
            }
           }
          ],
          "histogram2d": [
           {
            "type": "histogram2d",
            "colorbar": {
             "outlinewidth": 0,
             "ticks": ""
            },
            "colorscale": [
             [
              0.0,
              "#0d0887"
             ],
             [
              0.1111111111111111,
              "#46039f"
             ],
             [
              0.2222222222222222,
              "#7201a8"
             ],
             [
              0.3333333333333333,
              "#9c179e"
             ],
             [
              0.4444444444444444,
              "#bd3786"
             ],
             [
              0.5555555555555556,
              "#d8576b"
             ],
             [
              0.6666666666666666,
              "#ed7953"
             ],
             [
              0.7777777777777778,
              "#fb9f3a"
             ],
             [
              0.8888888888888888,
              "#fdca26"
             ],
             [
              1.0,
              "#f0f921"
             ]
            ]
           }
          ],
          "heatmap": [
           {
            "type": "heatmap",
            "colorbar": {
             "outlinewidth": 0,
             "ticks": ""
            },
            "colorscale": [
             [
              0.0,
              "#0d0887"
             ],
             [
              0.1111111111111111,
              "#46039f"
             ],
             [
              0.2222222222222222,
              "#7201a8"
             ],
             [
              0.3333333333333333,
              "#9c179e"
             ],
             [
              0.4444444444444444,
              "#bd3786"
             ],
             [
              0.5555555555555556,
              "#d8576b"
             ],
             [
              0.6666666666666666,
              "#ed7953"
             ],
             [
              0.7777777777777778,
              "#fb9f3a"
             ],
             [
              0.8888888888888888,
              "#fdca26"
             ],
             [
              1.0,
              "#f0f921"
             ]
            ]
           }
          ],
          "contourcarpet": [
           {
            "type": "contourcarpet",
            "colorbar": {
             "outlinewidth": 0,
             "ticks": ""
            }
           }
          ],
          "contour": [
           {
            "type": "contour",
            "colorbar": {
             "outlinewidth": 0,
             "ticks": ""
            },
            "colorscale": [
             [
              0.0,
              "#0d0887"
             ],
             [
              0.1111111111111111,
              "#46039f"
             ],
             [
              0.2222222222222222,
              "#7201a8"
             ],
             [
              0.3333333333333333,
              "#9c179e"
             ],
             [
              0.4444444444444444,
              "#bd3786"
             ],
             [
              0.5555555555555556,
              "#d8576b"
             ],
             [
              0.6666666666666666,
              "#ed7953"
             ],
             [
              0.7777777777777778,
              "#fb9f3a"
             ],
             [
              0.8888888888888888,
              "#fdca26"
             ],
             [
              1.0,
              "#f0f921"
             ]
            ]
           }
          ],
          "surface": [
           {
            "type": "surface",
            "colorbar": {
             "outlinewidth": 0,
             "ticks": ""
            },
            "colorscale": [
             [
              0.0,
              "#0d0887"
             ],
             [
              0.1111111111111111,
              "#46039f"
             ],
             [
              0.2222222222222222,
              "#7201a8"
             ],
             [
              0.3333333333333333,
              "#9c179e"
             ],
             [
              0.4444444444444444,
              "#bd3786"
             ],
             [
              0.5555555555555556,
              "#d8576b"
             ],
             [
              0.6666666666666666,
              "#ed7953"
             ],
             [
              0.7777777777777778,
              "#fb9f3a"
             ],
             [
              0.8888888888888888,
              "#fdca26"
             ],
             [
              1.0,
              "#f0f921"
             ]
            ]
           }
          ],
          "mesh3d": [
           {
            "type": "mesh3d",
            "colorbar": {
             "outlinewidth": 0,
             "ticks": ""
            }
           }
          ],
          "scatter": [
           {
            "fillpattern": {
             "fillmode": "overlay",
             "size": 10,
             "solidity": 0.2
            },
            "type": "scatter"
           }
          ],
          "parcoords": [
           {
            "type": "parcoords",
            "line": {
             "colorbar": {
              "outlinewidth": 0,
              "ticks": ""
             }
            }
           }
          ],
          "scatterpolargl": [
           {
            "type": "scatterpolargl",
            "marker": {
             "colorbar": {
              "outlinewidth": 0,
              "ticks": ""
             }
            }
           }
          ],
          "bar": [
           {
            "error_x": {
             "color": "#2a3f5f"
            },
            "error_y": {
             "color": "#2a3f5f"
            },
            "marker": {
             "line": {
              "color": "#E5ECF6",
              "width": 0.5
             },
             "pattern": {
              "fillmode": "overlay",
              "size": 10,
              "solidity": 0.2
             }
            },
            "type": "bar"
           }
          ],
          "scattergeo": [
           {
            "type": "scattergeo",
            "marker": {
             "colorbar": {
              "outlinewidth": 0,
              "ticks": ""
             }
            }
           }
          ],
          "scatterpolar": [
           {
            "type": "scatterpolar",
            "marker": {
             "colorbar": {
              "outlinewidth": 0,
              "ticks": ""
             }
            }
           }
          ],
          "histogram": [
           {
            "marker": {
             "pattern": {
              "fillmode": "overlay",
              "size": 10,
              "solidity": 0.2
             }
            },
            "type": "histogram"
           }
          ],
          "scattergl": [
           {
            "type": "scattergl",
            "marker": {
             "colorbar": {
              "outlinewidth": 0,
              "ticks": ""
             }
            }
           }
          ],
          "scatter3d": [
           {
            "type": "scatter3d",
            "line": {
             "colorbar": {
              "outlinewidth": 0,
              "ticks": ""
             }
            },
            "marker": {
             "colorbar": {
              "outlinewidth": 0,
              "ticks": ""
             }
            }
           }
          ],
          "scattermap": [
           {
            "type": "scattermap",
            "marker": {
             "colorbar": {
              "outlinewidth": 0,
              "ticks": ""
             }
            }
           }
          ],
          "scattermapbox": [
           {
            "type": "scattermapbox",
            "marker": {
             "colorbar": {
              "outlinewidth": 0,
              "ticks": ""
             }
            }
           }
          ],
          "scatterternary": [
           {
            "type": "scatterternary",
            "marker": {
             "colorbar": {
              "outlinewidth": 0,
              "ticks": ""
             }
            }
           }
          ],
          "scattercarpet": [
           {
            "type": "scattercarpet",
            "marker": {
             "colorbar": {
              "outlinewidth": 0,
              "ticks": ""
             }
            }
           }
          ],
          "carpet": [
           {
            "aaxis": {
             "endlinecolor": "#2a3f5f",
             "gridcolor": "white",
             "linecolor": "white",
             "minorgridcolor": "white",
             "startlinecolor": "#2a3f5f"
            },
            "baxis": {
             "endlinecolor": "#2a3f5f",
             "gridcolor": "white",
             "linecolor": "white",
             "minorgridcolor": "white",
             "startlinecolor": "#2a3f5f"
            },
            "type": "carpet"
           }
          ],
          "table": [
           {
            "cells": {
             "fill": {
              "color": "#EBF0F8"
             },
             "line": {
              "color": "white"
             }
            },
            "header": {
             "fill": {
              "color": "#C8D4E3"
             },
             "line": {
              "color": "white"
             }
            },
            "type": "table"
           }
          ],
          "barpolar": [
           {
            "marker": {
             "line": {
              "color": "#E5ECF6",
              "width": 0.5
             },
             "pattern": {
              "fillmode": "overlay",
              "size": 10,
              "solidity": 0.2
             }
            },
            "type": "barpolar"
           }
          ],
          "pie": [
           {
            "automargin": true,
            "type": "pie"
           }
          ]
         },
         "layout": {
          "autotypenumbers": "strict",
          "colorway": [
           "#636efa",
           "#EF553B",
           "#00cc96",
           "#ab63fa",
           "#FFA15A",
           "#19d3f3",
           "#FF6692",
           "#B6E880",
           "#FF97FF",
           "#FECB52"
          ],
          "font": {
           "color": "#2a3f5f"
          },
          "hovermode": "closest",
          "hoverlabel": {
           "align": "left"
          },
          "paper_bgcolor": "white",
          "plot_bgcolor": "#E5ECF6",
          "polar": {
           "bgcolor": "#E5ECF6",
           "angularaxis": {
            "gridcolor": "white",
            "linecolor": "white",
            "ticks": ""
           },
           "radialaxis": {
            "gridcolor": "white",
            "linecolor": "white",
            "ticks": ""
           }
          },
          "ternary": {
           "bgcolor": "#E5ECF6",
           "aaxis": {
            "gridcolor": "white",
            "linecolor": "white",
            "ticks": ""
           },
           "baxis": {
            "gridcolor": "white",
            "linecolor": "white",
            "ticks": ""
           },
           "caxis": {
            "gridcolor": "white",
            "linecolor": "white",
            "ticks": ""
           }
          },
          "coloraxis": {
           "colorbar": {
            "outlinewidth": 0,
            "ticks": ""
           }
          },
          "colorscale": {
           "sequential": [
            [
             0.0,
             "#0d0887"
            ],
            [
             0.1111111111111111,
             "#46039f"
            ],
            [
             0.2222222222222222,
             "#7201a8"
            ],
            [
             0.3333333333333333,
             "#9c179e"
            ],
            [
             0.4444444444444444,
             "#bd3786"
            ],
            [
             0.5555555555555556,
             "#d8576b"
            ],
            [
             0.6666666666666666,
             "#ed7953"
            ],
            [
             0.7777777777777778,
             "#fb9f3a"
            ],
            [
             0.8888888888888888,
             "#fdca26"
            ],
            [
             1.0,
             "#f0f921"
            ]
           ],
           "sequentialminus": [
            [
             0.0,
             "#0d0887"
            ],
            [
             0.1111111111111111,
             "#46039f"
            ],
            [
             0.2222222222222222,
             "#7201a8"
            ],
            [
             0.3333333333333333,
             "#9c179e"
            ],
            [
             0.4444444444444444,
             "#bd3786"
            ],
            [
             0.5555555555555556,
             "#d8576b"
            ],
            [
             0.6666666666666666,
             "#ed7953"
            ],
            [
             0.7777777777777778,
             "#fb9f3a"
            ],
            [
             0.8888888888888888,
             "#fdca26"
            ],
            [
             1.0,
             "#f0f921"
            ]
           ],
           "diverging": [
            [
             0,
             "#8e0152"
            ],
            [
             0.1,
             "#c51b7d"
            ],
            [
             0.2,
             "#de77ae"
            ],
            [
             0.3,
             "#f1b6da"
            ],
            [
             0.4,
             "#fde0ef"
            ],
            [
             0.5,
             "#f7f7f7"
            ],
            [
             0.6,
             "#e6f5d0"
            ],
            [
             0.7,
             "#b8e186"
            ],
            [
             0.8,
             "#7fbc41"
            ],
            [
             0.9,
             "#4d9221"
            ],
            [
             1,
             "#276419"
            ]
           ]
          },
          "xaxis": {
           "gridcolor": "white",
           "linecolor": "white",
           "ticks": "",
           "title": {
            "standoff": 15
           },
           "zerolinecolor": "white",
           "automargin": true,
           "zerolinewidth": 2
          },
          "yaxis": {
           "gridcolor": "white",
           "linecolor": "white",
           "ticks": "",
           "title": {
            "standoff": 15
           },
           "zerolinecolor": "white",
           "automargin": true,
           "zerolinewidth": 2
          },
          "scene": {
           "xaxis": {
            "backgroundcolor": "#E5ECF6",
            "gridcolor": "white",
            "linecolor": "white",
            "showbackground": true,
            "ticks": "",
            "zerolinecolor": "white",
            "gridwidth": 2
           },
           "yaxis": {
            "backgroundcolor": "#E5ECF6",
            "gridcolor": "white",
            "linecolor": "white",
            "showbackground": true,
            "ticks": "",
            "zerolinecolor": "white",
            "gridwidth": 2
           },
           "zaxis": {
            "backgroundcolor": "#E5ECF6",
            "gridcolor": "white",
            "linecolor": "white",
            "showbackground": true,
            "ticks": "",
            "zerolinecolor": "white",
            "gridwidth": 2
           }
          },
          "shapedefaults": {
           "line": {
            "color": "#2a3f5f"
           }
          },
          "annotationdefaults": {
           "arrowcolor": "#2a3f5f",
           "arrowhead": 0,
           "arrowwidth": 1
          },
          "geo": {
           "bgcolor": "white",
           "landcolor": "#E5ECF6",
           "subunitcolor": "white",
           "showland": true,
           "showlakes": true,
           "lakecolor": "white"
          },
          "title": {
           "x": 0.05
          },
          "mapbox": {
           "style": "light"
          }
         }
        },
        "xaxis": {
         "anchor": "y",
         "domain": [
          0.0,
          1.0
         ],
         "title": {
          "text": "Date"
         }
        },
        "yaxis": {
         "anchor": "x",
         "domain": [
          0.0,
          1.0
         ],
         "title": {
          "text": "Confirmed Cases"
         }
        },
        "legend": {
         "tracegroupgap": 0
        },
        "title": {
         "text": "WorldWide COVID-19 Confirmed Cases"
        }
       },
       "config": {
        "plotlyServerURL": "https://plot.ly"
       }
      }
     },
     "metadata": {},
     "output_type": "display_data"
    }
   ],
   "execution_count": 162
  },
  {
   "cell_type": "code",
   "execution_count": null,
   "metadata": {},
   "outputs": [],
   "source": []
  }
 ],
 "metadata": {
  "kernelspec": {
   "display_name": "Python 3",
   "language": "python",
   "name": "python3"
  },
  "language_info": {
   "codemirror_mode": {
    "name": "ipython",
    "version": 3
   },
   "file_extension": ".py",
   "mimetype": "text/x-python",
   "name": "python",
   "nbconvert_exporter": "python",
   "pygments_lexer": "ipython3",
   "version": "3.7.7"
  }
 },
 "nbformat": 4,
 "nbformat_minor": 4
}
